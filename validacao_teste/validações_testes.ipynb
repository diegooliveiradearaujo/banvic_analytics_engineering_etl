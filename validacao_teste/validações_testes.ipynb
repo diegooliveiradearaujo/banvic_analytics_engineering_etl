{
 "cells": [
  {
   "cell_type": "markdown",
   "id": "4b0e487e",
   "metadata": {},
   "source": [
    "# Teste de validações do sistema BI"
   ]
  },
  {
   "cell_type": "markdown",
   "id": "3313fae7",
   "metadata": {},
   "source": [
    "Este documento se trata dos testes/validações entre os dados apresentados no BI e os dados persistidos no banco de dados. Na cláusula where de cada validação é possível manipular os filtros para validar os filtros do BI."
   ]
  },
  {
   "cell_type": "code",
   "execution_count": null,
   "id": "d72bc693",
   "metadata": {},
   "outputs": [],
   "source": [
    "import psycopg2 as pg\n",
    "import pandas as pd\n",
    "from dotenv import load_dotenv \n",
    "import os"
   ]
  },
  {
   "cell_type": "code",
   "execution_count": null,
   "id": "e36bbfb8",
   "metadata": {},
   "outputs": [],
   "source": [
    "load_dotenv()\n",
    "conexao = pg.connect(database=os.getenv(\"database\"),\n",
    "                    user=os.getenv(\"user\"),\n",
    "                    password=os.getenv(\"password\"),\n",
    "                    host=os.getenv(\"host\"),\n",
    "                    port=os.getenv(\"port\")\n",
    "                     )\n",
    "conectado = conexao.cursor()"
   ]
  },
  {
   "cell_type": "markdown",
   "id": "312fc1fa",
   "metadata": {},
   "source": [
    "### Transação por estado "
   ]
  },
  {
   "cell_type": "code",
   "execution_count": null,
   "id": "ed9ab79e",
   "metadata": {},
   "outputs": [],
   "source": [
    "query_grafico1='''SELECT a.uf, count(t.cod_transacao) from dw.contas co\n",
    "inner join dw.transacoes t on t.cod_cliente = co.cod_cliente\n",
    "inner join dw.agencia a on a.cod_agencia = co.cod_agencia\n",
    "inner join dw.clientes cl on cl.cod_cliente = co.cod_cliente\n",
    "where cl.nome='Amanda Martins' and a.nome='Agência Matriz'\n",
    "and t.data_transacao between '2020/01/13' and '2023/01/15'\n",
    "group by a.uf,a.cod_agencia order by 1 asc'''"
   ]
  },
  {
   "cell_type": "code",
   "execution_count": null,
   "id": "ae501dcd",
   "metadata": {},
   "outputs": [],
   "source": [
    "conectado.execute(query_grafico1)\n",
    "resultado_grafico1 = conectado.fetchall()"
   ]
  },
  {
   "cell_type": "code",
   "execution_count": null,
   "id": "72c70d30",
   "metadata": {},
   "outputs": [],
   "source": [
    "resultado_grafico1"
   ]
  },
  {
   "cell_type": "markdown",
   "id": "46323237",
   "metadata": {},
   "source": [
    "### Distribuição do total de transação por tipo"
   ]
  },
  {
   "cell_type": "code",
   "execution_count": null,
   "id": "5a13fc9c",
   "metadata": {},
   "outputs": [],
   "source": [
    "query_grafico2='''SELECT t.nome_transacao, sum(t.valor_transacao) from dw.contas co\n",
    "inner join dw.transacoes t on t.cod_cliente = co.cod_cliente\n",
    "inner join dw.agencia a on a.cod_agencia = co.cod_agencia\n",
    "inner join dw.clientes cl on cl.cod_cliente = co.cod_cliente\n",
    "where cl.nome='Amanda Martins' and a.nome='Agência Matriz'\n",
    "AND t.data_transacao between '2016/01/17' and '2023/01/15'\n",
    "group by t.nome_transacao order by 2 asc'''\n"
   ]
  },
  {
   "cell_type": "code",
   "execution_count": null,
   "id": "5528c829",
   "metadata": {},
   "outputs": [],
   "source": [
    "conectado.execute(query_grafico2)\n",
    "resultado_grafico2 = conectado.fetchall()"
   ]
  },
  {
   "cell_type": "code",
   "execution_count": null,
   "id": "df1af420",
   "metadata": {},
   "outputs": [],
   "source": [
    "resultado_grafico2"
   ]
  },
  {
   "cell_type": "markdown",
   "id": "ca854989",
   "metadata": {},
   "source": [
    "### Ganho e ganhos por cliente"
   ]
  },
  {
   "cell_type": "code",
   "execution_count": null,
   "id": "1520d10e",
   "metadata": {},
   "outputs": [],
   "source": [
    "query_grafico3_4='''with x as (\n",
    "select p.*, (valor_prestacao * quantidade_parcelas)+valor_entrada as total \n",
    "from dw.credito p\n",
    "where status_proposta='Aprovada'\n",
    "--order by 2 asc\n",
    ")\n",
    "\n",
    "select ci.nome,sum(p.total) from dw.contas co\n",
    "inner join x p on p.cod_cliente = co.cod_cliente\n",
    "inner join dw.agencia a on a.cod_agencia = co.cod_agencia\n",
    "inner join dw.clientes ci on ci.cod_cliente = co.cod_cliente\n",
    "where ci.nome='André Ferreira' and a.nome='Agência Campinas'\n",
    "group by ci.nome order by 1 asc'''"
   ]
  },
  {
   "cell_type": "code",
   "execution_count": null,
   "id": "3a0fbad5",
   "metadata": {},
   "outputs": [],
   "source": [
    "conectado.execute(query_grafico3_4)\n",
    "resultado_grafico3_4 = conectado.fetchall()"
   ]
  },
  {
   "cell_type": "code",
   "execution_count": null,
   "id": "8172766d",
   "metadata": {},
   "outputs": [],
   "source": [
    "resultado_grafico3_4"
   ]
  },
  {
   "cell_type": "markdown",
   "id": "880247c8",
   "metadata": {},
   "source": [
    "### Transação positiva e negativa por tempo "
   ]
  },
  {
   "cell_type": "code",
   "execution_count": null,
   "id": "fb2fca06",
   "metadata": {},
   "outputs": [],
   "source": [
    "#TRANSAÇÕES POSITIVAS\n",
    "query_grafico5='''with x as(\n",
    "select t.*, cast(data_transacao as date) as dt_transf from dw.transacoes t\n",
    "where valor_transacao > 0)\n",
    "\n",
    "select ci.cod_cliente,dt_transf,sum(valor_transacao) as qtd from x\n",
    "inner join dw.clientes ci on x.cod_cliente = ci.cod_cliente\n",
    "inner join dw.contas co on co.cod_cliente = x.cod_cliente\n",
    "INNER JOIN dw.agencia a on a.cod_agencia = co.cod_agencia\n",
    "where ci.nome='André Ferreira' and a.nome='Agência Campinas'\n",
    "AND x.data_transacao between '2010/02/27' and '2023/01/15'\n",
    "group by ci.cod_cliente,dt_transf order by 2 asc'''"
   ]
  },
  {
   "cell_type": "code",
   "execution_count": null,
   "id": "2e6339e4",
   "metadata": {},
   "outputs": [],
   "source": [
    "conectado.execute(query_grafico5)\n",
    "resultado_grafico5 = conectado.fetchall()"
   ]
  },
  {
   "cell_type": "code",
   "execution_count": null,
   "id": "9acfc682",
   "metadata": {},
   "outputs": [],
   "source": [
    "resultado_grafico5"
   ]
  },
  {
   "cell_type": "code",
   "execution_count": null,
   "id": "2743f838",
   "metadata": {},
   "outputs": [],
   "source": [
    "#TRANSAÇÕES NEGATIVAS\n",
    "query_grafico5='''with x as(\n",
    "select t.*, cast(data_transacao as date) as dt_transf from dw.transacoes t\n",
    "where valor_transacao < 0)\n",
    "\n",
    "select ci.cod_cliente,dt_transf,sum(valor_transacao) as qtd from x\n",
    "inner join dw.clientes ci on x.cod_cliente = ci.cod_cliente\n",
    "inner join dw.contas co on co.cod_cliente = x.cod_cliente\n",
    "INNER JOIN dw.agencia a on a.cod_agencia = co.cod_agencia\n",
    "where ci.nome='André Ferreira' and a.nome='Agência Campinas'\n",
    "AND x.data_transacao between '2010/02/27' and '2023/01/15'\n",
    "group by ci.cod_cliente,dt_transf order by 2 asc'''"
   ]
  },
  {
   "cell_type": "code",
   "execution_count": null,
   "id": "01566e5c",
   "metadata": {},
   "outputs": [],
   "source": [
    "conectado.execute(query_grafico5)\n",
    "resultado_grafico5 = conectado.fetchall()"
   ]
  },
  {
   "cell_type": "code",
   "execution_count": null,
   "id": "c726fbe9",
   "metadata": {},
   "outputs": [],
   "source": [
    "resultado_grafico5"
   ]
  },
  {
   "cell_type": "code",
   "execution_count": null,
   "id": "f5fd4efc",
   "metadata": {},
   "outputs": [],
   "source": []
  }
 ],
 "metadata": {
  "kernelspec": {
   "display_name": "Python 3 (ipykernel)",
   "language": "python",
   "name": "python3"
  },
  "language_info": {
   "codemirror_mode": {
    "name": "ipython",
    "version": 3
   },
   "file_extension": ".py",
   "mimetype": "text/x-python",
   "name": "python",
   "nbconvert_exporter": "python",
   "pygments_lexer": "ipython3",
   "version": "3.10.9"
  }
 },
 "nbformat": 4,
 "nbformat_minor": 5
}
